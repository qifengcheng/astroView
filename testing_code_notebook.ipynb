{
 "cells": [
  {
   "cell_type": "code",
   "execution_count": 6,
   "metadata": {},
   "outputs": [],
   "source": [
    "from astroView import main"
   ]
  },
  {
   "cell_type": "code",
   "execution_count": 7,
   "metadata": {},
   "outputs": [
    {
     "name": "stderr",
     "output_type": "stream",
     "text": [
      "[#################################] 100% de421.bsp\n",
      "[#################################] 100% de421.bsp\n"
     ]
    },
    {
     "data": {
      "application/vnd.plotly.v1+json": {
       "config": {
        "plotlyServerURL": "https://plot.ly"
       },
       "data": [
        {
         "mode": "lines",
         "name": "Earth Orbit",
         "type": "scatter3d",
         "x": {
          "bdata": "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",
          "dtype": "f8"
         },
         "y": {
          "bdata": "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",
          "dtype": "f8"
         },
         "z": {
          "bdata": "3sbZp1Wd2D8Hki7hi4fYPwcj/B7Lb9g/YcY0yhVW2D/8a6acbjrYPyBvPZbYHNg/HIp871b91z8nZmkK7dvXP4qTFGOeuNc/XBjVgG6T1z+1jG7pYGzXP5cqiBd5Q9c/40TNdboY1z+zrX9fKOzWP0EqOibGvdY/fFqAG5eN1j9qbAacnlvWP7rgnRrgJ9Y/iyJRKV/y1T/J1xGAH7vVP+cwHgElgtU/Vrm9u3NH1T+evi7uDwvVP2ICpgf+zNQ/+r4rq0KN1D9GaO2z4kvUP9GtPjvjCNQ/eoDtn0nE0z9x072NG37TP15wCwNfNtM/cKceUhrt0j8aUTAcVKLSP1HTkEUTVtI/I6Bh5F4I0j8Ni9YsPrnRPwITRl64aNE/MaV4s9QW0T94PVdXmsPQP/l0Cl4Qb9A/R9MZwj0Z0D9JdxDKUoTPP0EI8SW0084/DnmyEa0gzj9p6cf4SmvNP6ZxAEqbs8w/I2QAiav5yz+XBp1diT3LP39r+Z9Cf8o/vD0jYeW+yT/Sqbzwf/zIPzPT0+AgOMg/w6FWCddxxz+/kqGMsanGP/k4et6/38U/J31EzhEUxT/nQD+Ut0bEP29g6d/Bd8M/NuV+40Gnwj+1QJZWSdXBP0Qv0GnqAcE/Bya1qDctwD8NW8OZh66+Py7QGRdDAL0/KAAG0cZPuz+pclYtN525P17S/NC36Lc/jCb5m2sytj9WfTa3dHq0P+2R96v0wLI//C1HfwwGsT9ZKD2duZOuPzlCM9kLGas/q78r+k+cpz9qJucfxh2kP4ax0XKunaA/zvRWm5I4mj8KO8q9rjOTPzCvjQdnWog/GPi7kJCWdD+6jPOUsCdev4ion9BI1YG/439/z6Hkj7+2lUW/9/iWvyf7bxkO/p2/xf+QWoOAor83PJzMqACmv1RMsQMuf6m/tRG7ccj7rL/qZ85sFjuwvxacIwoI97G/Uwn++ZOxs7/lWlUGlmq1v2nvaxnrIbe/R0FEUXHXuL9xP3zvB4u6v0BPHjWPPLy/no2GOOjrvb/3SP299Ji/v6DWJovLocC/hGidAdl1wb/cmCZQlEjCv/yoLyfvGcO/SalwUNvpw7/2XT6mSrjEv/hanwsvhcW/7lBHZXpQxr8UYnyTHhrHv+a6rGwN4se/Ccs5uDioyL/5ENookmzJv2wJDFYLL8q/meuQtJXvyr9FeeiOIq7Lv2jjWwCjasy/D0EB9wclzb9c20pCQt3Nv47agbJCk86//iyeSPpGz7+K5kpuWvjPvxZ1/ZOqU9C/Ixvame6p0L9KI4MH8/7Qv6wkGPSxUtG/azX3wSWl0b8On5YQSfbRv+wRM7AWRtK/iIVUmImU0r9dW/DgnOHSv5xUZ71LLdO/uWOOeJF307/7rB1xacDTv2OVIRbPB9S/ZbJI471N1L+iaRpdMZLUvwLXPQ0l1dS/Qv/8fpQW1b9iRiI8e1bVv48nOsrUlNW/w7w7qJzR1b9l9LNMzgzWvyJN2SRlRta/JXRqlVx+1r8wBMz+r7TWv639LsZa6da/5EwZZVgc17/ocfZ+pE3Xv9XUjfk6fde/x6C7Ehir179FI4ttONfXv/WOoxOZAdi/Z1tKbDcq2L/Yv18tEVHYv1UbOUskdti/F3636m6Z2L+aSO1W77rYv7afIfqj2ti/RA5FWYv42L+8CMUQpBTZv4DB1NHsLtm/CzGIX2RH2b89GmuLCV7Zv0nlhzHbctm/QYYTNNiF2b+lyyR3/5bZv6OF9txPptm/VxUyQ8iz2b8Le6qBZ7/Zv+fL2Gosydm/JwNnzhXR2b9q+i9+ItfZvzyfRFZR29m/DC+PSKHd2b9WT0tsEd7ZvyTTgBCh3Nm/Lzcbz0/Z2b9Cbc2cHdTZv98Ix9EKzdm/zmv3KBjE2b+NzJK2RrnZvzepIdmXrNm/pyxCKQ2e2b99oGBrqI3Zv/wb+oRre9m/jPF3dVhn2b/+/s5RcVHZv5fSwkG4Odm/pjK/fS8g2b/+dHdM2QTZvx42x/+359i/l92j8M3I2L8Yt0l6HajYv9fHLfWohdi/DHyPsnJh2L8yrbH5fDvYvwlQsgfKE9i/w1SnElzq17/miy5QNb/Xv7zFKP9Xkte/RyoIdMZj178toe8mgzPXv8kPu8KQAde/Te+9M/LN1r83s5O0qpjWv8YSAde9Yda/7WMJhy8p1r+qmUoHBO/Vv7JYQOc/s9W/5RuQ9ed11b9jWToxATfVv33HOryQ9tS/X+wX0Zu01L/Yi7a7J3HUv+S76NQ5LNS/YSPEf9fl078h2bgnBp7Tv+HWhD7LVNO/DGJcOSwK07+owe2MLr7Sv05cSqjXcNK/lqw97ywi0r/G2Si1M9LRv/Uc8TnxgNG/TjOuqmou0b/Z61AnpdrQv9BPbs2lhdC/soQRx3Ev0L9kc/W2HLDPv9Wl1v4B/86/jVEUxp5Lzr9KAU34/pXNv0h0ihgv3sy/jNeMRDwkzL+2CVkvNGjLv6AbrBMlqsq/iqXWnx3qyb+27YDdLCjJv8byexhiZMi/JGWmx8yex7/DTgp6fNfGvyYpC8mADsa/7949T+lDxb++jaiixXfEv5BZxFAlqsO/lC2a2hfbwr+7dZSvrArCv2WrFCbzOMG/vtyNcfplwL9gVNstoyO/v2oyBsMOeb2/FvAwuFTMu7+bb9SlkR26v8zxAMXhbLi/DeMGKWG6tr+yZBsOLAa1vxaQ5C1fULO/bx+YCBiZsb9z6E0s6sCvv6sH6bYrTay/h1PlzTXXqL8Untt2S1+lv3R4cF+x5aG/mNFyIFvVnL+ByCQzDt2Vv6lm+vsWxo2/kZ7sKo2ff7/zvs8UwoRNv2KUHCpwPng/kBH4LacVij83j0sk8gSUP/qVmHRq/Zo/4PbCUNj5oD+vM2kenXOkP+e2ODu/66c/5pL/J/thqz/7eadwDtauPzMqrurbI7E/4vy3uVvbsj+5G+hvZ5G0P3vqRo/gRbY/pTYmMan4tz/y3KvEo6m5P2j3ubKyWLs/7u67+rcFvT/60JrhlLC+Pz+Q0OKULMA/lqi9Dav/wD+NG59FfNHBP4I6ao/3ocI/5mqIugtxwz96RuV4pz7EP/WuGHS5CsU/OJeyXzDVxT/b+S4J+53GP85SBWYIZcc/QTf+n0cqyD90EL8fqO3IP/WlcZUZr8k/iMOV/4tuyj8I2FKw7yvLPxPL51E158s/0eED602gzD8xIs7jKlfNP6geFgy+C84/myqDovm9zj+43X1b0G3PP+AIgrKaDdA/gFl4MQ5j0D/XPT6vPLfQP1p7uVIgCtE/XFVzTbNb0T8OYFzB76vRP2k+NqvP+tE/g8Pl10xI0j+QjJTmYJTSP/XHuVQF39I/hjLGjjMo0z/7ssQA5W/TP5zNUCQTttM/nEU6i7f60z9cIFbnyz3UP7cTYhBKf9Q/jNvMCCy/1D8EbvEBbP3UP37NB2AEOtU/8inTve901T/OmvTvKK7VP665xQer5dU/KKqwVXEb1j9ytxZrd0/WPzbS6hu5gdY/GccggDKy1j99dub03+DWP4ohQB2+Ddc/eM4V4ck41z8cEiNpAGLXP9t73hVfidc/iCPkb+Ou1z9dn0gSi9LXP8yOU5JT9Nc/0TnyajoU2D8zP17yPDLYP8FJ+1xYTtg/emtHy4lo2D9O8UNdzoDYPxqEn0Ujl9g/ZDQh2YWr2D/RWmCZ873YPxFefjtqztg/QeQ2rOfc2D/jWY4SaunYP39fENLv89g/tmkqjXf82D9gttMnAAPZP3yja8qIB9k/9P6G5BAK2T++ok8vmArZPw2VH68eCdk/204atKQF2T/Xa6PZKgDZP3UNnQSy+Ng/4rBAYDvv2D+I9ydZyOPYP1tpzJVa1tg/K06a6/PG2D9q3/9PlrXYPw==",
          "dtype": "f8"
         }
        },
        {
         "mode": "lines",
         "name": "Vesta Orbit",
         "type": "scatter3d",
         "x": {
          "bdata": "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",
          "dtype": "f8"
         },
         "y": {
          "bdata": "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",
          "dtype": "f8"
         },
         "z": {
          "bdata": "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",
          "dtype": "f8"
         }
        },
        {
         "marker": {
          "color": "yellow",
          "size": 6
         },
         "mode": "markers",
         "name": "Sun",
         "type": "scatter3d",
         "x": [
          0
         ],
         "y": [
          0
         ],
         "z": [
          0
         ]
        },
        {
         "marker": {
          "color": "blue",
          "size": 6,
          "symbol": "circle"
         },
         "mode": "markers",
         "name": "Earth (Start of Year)",
         "type": "scatter3d",
         "x": [
          -0.17859948464410152
         ],
         "y": [
          0.8872238870300401
         ],
         "z": [
          0.38460294143361107
         ]
        },
        {
         "marker": {
          "color": "red",
          "size": 6,
          "symbol": "circle"
         },
         "mode": "markers",
         "name": "Vesta (Start of Year)",
         "type": "scatter3d",
         "x": [
          2.250582048106207
         ],
         "y": [
          0.1756708258072572
         ],
         "z": [
          -0.2792640768981432
         ]
        }
       ],
       "layout": {
        "margin": {
         "b": 0,
         "l": 0,
         "r": 0,
         "t": 30
        },
        "scene": {
         "aspectmode": "data",
         "xaxis": {
          "title": {
           "text": "X (AU)"
          }
         },
         "yaxis": {
          "title": {
           "text": "Y (AU)"
          }
         },
         "zaxis": {
          "title": {
           "text": "Z (AU)"
          }
         }
        },
        "template": {
         "data": {
          "bar": [
           {
            "error_x": {
             "color": "#2a3f5f"
            },
            "error_y": {
             "color": "#2a3f5f"
            },
            "marker": {
             "line": {
              "color": "#E5ECF6",
              "width": 0.5
             },
             "pattern": {
              "fillmode": "overlay",
              "size": 10,
              "solidity": 0.2
             }
            },
            "type": "bar"
           }
          ],
          "barpolar": [
           {
            "marker": {
             "line": {
              "color": "#E5ECF6",
              "width": 0.5
             },
             "pattern": {
              "fillmode": "overlay",
              "size": 10,
              "solidity": 0.2
             }
            },
            "type": "barpolar"
           }
          ],
          "carpet": [
           {
            "aaxis": {
             "endlinecolor": "#2a3f5f",
             "gridcolor": "white",
             "linecolor": "white",
             "minorgridcolor": "white",
             "startlinecolor": "#2a3f5f"
            },
            "baxis": {
             "endlinecolor": "#2a3f5f",
             "gridcolor": "white",
             "linecolor": "white",
             "minorgridcolor": "white",
             "startlinecolor": "#2a3f5f"
            },
            "type": "carpet"
           }
          ],
          "choropleth": [
           {
            "colorbar": {
             "outlinewidth": 0,
             "ticks": ""
            },
            "type": "choropleth"
           }
          ],
          "contour": [
           {
            "colorbar": {
             "outlinewidth": 0,
             "ticks": ""
            },
            "colorscale": [
             [
              0,
              "#0d0887"
             ],
             [
              0.1111111111111111,
              "#46039f"
             ],
             [
              0.2222222222222222,
              "#7201a8"
             ],
             [
              0.3333333333333333,
              "#9c179e"
             ],
             [
              0.4444444444444444,
              "#bd3786"
             ],
             [
              0.5555555555555556,
              "#d8576b"
             ],
             [
              0.6666666666666666,
              "#ed7953"
             ],
             [
              0.7777777777777778,
              "#fb9f3a"
             ],
             [
              0.8888888888888888,
              "#fdca26"
             ],
             [
              1,
              "#f0f921"
             ]
            ],
            "type": "contour"
           }
          ],
          "contourcarpet": [
           {
            "colorbar": {
             "outlinewidth": 0,
             "ticks": ""
            },
            "type": "contourcarpet"
           }
          ],
          "heatmap": [
           {
            "colorbar": {
             "outlinewidth": 0,
             "ticks": ""
            },
            "colorscale": [
             [
              0,
              "#0d0887"
             ],
             [
              0.1111111111111111,
              "#46039f"
             ],
             [
              0.2222222222222222,
              "#7201a8"
             ],
             [
              0.3333333333333333,
              "#9c179e"
             ],
             [
              0.4444444444444444,
              "#bd3786"
             ],
             [
              0.5555555555555556,
              "#d8576b"
             ],
             [
              0.6666666666666666,
              "#ed7953"
             ],
             [
              0.7777777777777778,
              "#fb9f3a"
             ],
             [
              0.8888888888888888,
              "#fdca26"
             ],
             [
              1,
              "#f0f921"
             ]
            ],
            "type": "heatmap"
           }
          ],
          "histogram": [
           {
            "marker": {
             "pattern": {
              "fillmode": "overlay",
              "size": 10,
              "solidity": 0.2
             }
            },
            "type": "histogram"
           }
          ],
          "histogram2d": [
           {
            "colorbar": {
             "outlinewidth": 0,
             "ticks": ""
            },
            "colorscale": [
             [
              0,
              "#0d0887"
             ],
             [
              0.1111111111111111,
              "#46039f"
             ],
             [
              0.2222222222222222,
              "#7201a8"
             ],
             [
              0.3333333333333333,
              "#9c179e"
             ],
             [
              0.4444444444444444,
              "#bd3786"
             ],
             [
              0.5555555555555556,
              "#d8576b"
             ],
             [
              0.6666666666666666,
              "#ed7953"
             ],
             [
              0.7777777777777778,
              "#fb9f3a"
             ],
             [
              0.8888888888888888,
              "#fdca26"
             ],
             [
              1,
              "#f0f921"
             ]
            ],
            "type": "histogram2d"
           }
          ],
          "histogram2dcontour": [
           {
            "colorbar": {
             "outlinewidth": 0,
             "ticks": ""
            },
            "colorscale": [
             [
              0,
              "#0d0887"
             ],
             [
              0.1111111111111111,
              "#46039f"
             ],
             [
              0.2222222222222222,
              "#7201a8"
             ],
             [
              0.3333333333333333,
              "#9c179e"
             ],
             [
              0.4444444444444444,
              "#bd3786"
             ],
             [
              0.5555555555555556,
              "#d8576b"
             ],
             [
              0.6666666666666666,
              "#ed7953"
             ],
             [
              0.7777777777777778,
              "#fb9f3a"
             ],
             [
              0.8888888888888888,
              "#fdca26"
             ],
             [
              1,
              "#f0f921"
             ]
            ],
            "type": "histogram2dcontour"
           }
          ],
          "mesh3d": [
           {
            "colorbar": {
             "outlinewidth": 0,
             "ticks": ""
            },
            "type": "mesh3d"
           }
          ],
          "parcoords": [
           {
            "line": {
             "colorbar": {
              "outlinewidth": 0,
              "ticks": ""
             }
            },
            "type": "parcoords"
           }
          ],
          "pie": [
           {
            "automargin": true,
            "type": "pie"
           }
          ],
          "scatter": [
           {
            "fillpattern": {
             "fillmode": "overlay",
             "size": 10,
             "solidity": 0.2
            },
            "type": "scatter"
           }
          ],
          "scatter3d": [
           {
            "line": {
             "colorbar": {
              "outlinewidth": 0,
              "ticks": ""
             }
            },
            "marker": {
             "colorbar": {
              "outlinewidth": 0,
              "ticks": ""
             }
            },
            "type": "scatter3d"
           }
          ],
          "scattercarpet": [
           {
            "marker": {
             "colorbar": {
              "outlinewidth": 0,
              "ticks": ""
             }
            },
            "type": "scattercarpet"
           }
          ],
          "scattergeo": [
           {
            "marker": {
             "colorbar": {
              "outlinewidth": 0,
              "ticks": ""
             }
            },
            "type": "scattergeo"
           }
          ],
          "scattergl": [
           {
            "marker": {
             "colorbar": {
              "outlinewidth": 0,
              "ticks": ""
             }
            },
            "type": "scattergl"
           }
          ],
          "scattermap": [
           {
            "marker": {
             "colorbar": {
              "outlinewidth": 0,
              "ticks": ""
             }
            },
            "type": "scattermap"
           }
          ],
          "scattermapbox": [
           {
            "marker": {
             "colorbar": {
              "outlinewidth": 0,
              "ticks": ""
             }
            },
            "type": "scattermapbox"
           }
          ],
          "scatterpolar": [
           {
            "marker": {
             "colorbar": {
              "outlinewidth": 0,
              "ticks": ""
             }
            },
            "type": "scatterpolar"
           }
          ],
          "scatterpolargl": [
           {
            "marker": {
             "colorbar": {
              "outlinewidth": 0,
              "ticks": ""
             }
            },
            "type": "scatterpolargl"
           }
          ],
          "scatterternary": [
           {
            "marker": {
             "colorbar": {
              "outlinewidth": 0,
              "ticks": ""
             }
            },
            "type": "scatterternary"
           }
          ],
          "surface": [
           {
            "colorbar": {
             "outlinewidth": 0,
             "ticks": ""
            },
            "colorscale": [
             [
              0,
              "#0d0887"
             ],
             [
              0.1111111111111111,
              "#46039f"
             ],
             [
              0.2222222222222222,
              "#7201a8"
             ],
             [
              0.3333333333333333,
              "#9c179e"
             ],
             [
              0.4444444444444444,
              "#bd3786"
             ],
             [
              0.5555555555555556,
              "#d8576b"
             ],
             [
              0.6666666666666666,
              "#ed7953"
             ],
             [
              0.7777777777777778,
              "#fb9f3a"
             ],
             [
              0.8888888888888888,
              "#fdca26"
             ],
             [
              1,
              "#f0f921"
             ]
            ],
            "type": "surface"
           }
          ],
          "table": [
           {
            "cells": {
             "fill": {
              "color": "#EBF0F8"
             },
             "line": {
              "color": "white"
             }
            },
            "header": {
             "fill": {
              "color": "#C8D4E3"
             },
             "line": {
              "color": "white"
             }
            },
            "type": "table"
           }
          ]
         },
         "layout": {
          "annotationdefaults": {
           "arrowcolor": "#2a3f5f",
           "arrowhead": 0,
           "arrowwidth": 1
          },
          "autotypenumbers": "strict",
          "coloraxis": {
           "colorbar": {
            "outlinewidth": 0,
            "ticks": ""
           }
          },
          "colorscale": {
           "diverging": [
            [
             0,
             "#8e0152"
            ],
            [
             0.1,
             "#c51b7d"
            ],
            [
             0.2,
             "#de77ae"
            ],
            [
             0.3,
             "#f1b6da"
            ],
            [
             0.4,
             "#fde0ef"
            ],
            [
             0.5,
             "#f7f7f7"
            ],
            [
             0.6,
             "#e6f5d0"
            ],
            [
             0.7,
             "#b8e186"
            ],
            [
             0.8,
             "#7fbc41"
            ],
            [
             0.9,
             "#4d9221"
            ],
            [
             1,
             "#276419"
            ]
           ],
           "sequential": [
            [
             0,
             "#0d0887"
            ],
            [
             0.1111111111111111,
             "#46039f"
            ],
            [
             0.2222222222222222,
             "#7201a8"
            ],
            [
             0.3333333333333333,
             "#9c179e"
            ],
            [
             0.4444444444444444,
             "#bd3786"
            ],
            [
             0.5555555555555556,
             "#d8576b"
            ],
            [
             0.6666666666666666,
             "#ed7953"
            ],
            [
             0.7777777777777778,
             "#fb9f3a"
            ],
            [
             0.8888888888888888,
             "#fdca26"
            ],
            [
             1,
             "#f0f921"
            ]
           ],
           "sequentialminus": [
            [
             0,
             "#0d0887"
            ],
            [
             0.1111111111111111,
             "#46039f"
            ],
            [
             0.2222222222222222,
             "#7201a8"
            ],
            [
             0.3333333333333333,
             "#9c179e"
            ],
            [
             0.4444444444444444,
             "#bd3786"
            ],
            [
             0.5555555555555556,
             "#d8576b"
            ],
            [
             0.6666666666666666,
             "#ed7953"
            ],
            [
             0.7777777777777778,
             "#fb9f3a"
            ],
            [
             0.8888888888888888,
             "#fdca26"
            ],
            [
             1,
             "#f0f921"
            ]
           ]
          },
          "colorway": [
           "#636efa",
           "#EF553B",
           "#00cc96",
           "#ab63fa",
           "#FFA15A",
           "#19d3f3",
           "#FF6692",
           "#B6E880",
           "#FF97FF",
           "#FECB52"
          ],
          "font": {
           "color": "#2a3f5f"
          },
          "geo": {
           "bgcolor": "white",
           "lakecolor": "white",
           "landcolor": "#E5ECF6",
           "showlakes": true,
           "showland": true,
           "subunitcolor": "white"
          },
          "hoverlabel": {
           "align": "left"
          },
          "hovermode": "closest",
          "mapbox": {
           "style": "light"
          },
          "paper_bgcolor": "white",
          "plot_bgcolor": "#E5ECF6",
          "polar": {
           "angularaxis": {
            "gridcolor": "white",
            "linecolor": "white",
            "ticks": ""
           },
           "bgcolor": "#E5ECF6",
           "radialaxis": {
            "gridcolor": "white",
            "linecolor": "white",
            "ticks": ""
           }
          },
          "scene": {
           "xaxis": {
            "backgroundcolor": "#E5ECF6",
            "gridcolor": "white",
            "gridwidth": 2,
            "linecolor": "white",
            "showbackground": true,
            "ticks": "",
            "zerolinecolor": "white"
           },
           "yaxis": {
            "backgroundcolor": "#E5ECF6",
            "gridcolor": "white",
            "gridwidth": 2,
            "linecolor": "white",
            "showbackground": true,
            "ticks": "",
            "zerolinecolor": "white"
           },
           "zaxis": {
            "backgroundcolor": "#E5ECF6",
            "gridcolor": "white",
            "gridwidth": 2,
            "linecolor": "white",
            "showbackground": true,
            "ticks": "",
            "zerolinecolor": "white"
           }
          },
          "shapedefaults": {
           "line": {
            "color": "#2a3f5f"
           }
          },
          "ternary": {
           "aaxis": {
            "gridcolor": "white",
            "linecolor": "white",
            "ticks": ""
           },
           "baxis": {
            "gridcolor": "white",
            "linecolor": "white",
            "ticks": ""
           },
           "bgcolor": "#E5ECF6",
           "caxis": {
            "gridcolor": "white",
            "linecolor": "white",
            "ticks": ""
           }
          },
          "title": {
           "x": 0.05
          },
          "xaxis": {
           "automargin": true,
           "gridcolor": "white",
           "linecolor": "white",
           "ticks": "",
           "title": {
            "standoff": 15
           },
           "zerolinecolor": "white",
           "zerolinewidth": 2
          },
          "yaxis": {
           "automargin": true,
           "gridcolor": "white",
           "linecolor": "white",
           "ticks": "",
           "title": {
            "standoff": 15
           },
           "zerolinecolor": "white",
           "zerolinewidth": 2
          }
         }
        },
        "title": {
         "text": "Orbit Around the Sun: Earth and Vesta"
        }
       }
      }
     },
     "metadata": {},
     "output_type": "display_data"
    }
   ],
   "source": [
    "viz = main.AsteroidVisualizer()\n",
    "viz.plot_heliocentric_orbits_3D('Vesta', start='2025-01-01', stop='2025-12-31', step='1d')"
   ]
  }
 ],
 "metadata": {
  "kernelspec": {
   "display_name": "astroview",
   "language": "python",
   "name": "python3"
  },
  "language_info": {
   "codemirror_mode": {
    "name": "ipython",
    "version": 3
   },
   "file_extension": ".py",
   "mimetype": "text/x-python",
   "name": "python",
   "nbconvert_exporter": "python",
   "pygments_lexer": "ipython3",
   "version": "3.13.5"
  }
 },
 "nbformat": 4,
 "nbformat_minor": 2
}
